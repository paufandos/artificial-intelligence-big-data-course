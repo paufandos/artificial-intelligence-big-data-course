{
 "cells": [
  {
   "cell_type": "markdown",
   "id": "18245753c812e676",
   "metadata": {},
   "source": [
    "Importar librerias\n",
    "numpy -> operaciones matemáticas\n",
    "matplotlib -> generación de gráficas\n",
    "skfuzzy -> trabajar con conjuntos / lógica difusa"
   ]
  },
  {
   "cell_type": "code",
   "execution_count": 21,
   "id": "initial_id",
   "metadata": {
    "ExecuteTime": {
     "end_time": "2023-10-17T17:44:59.957160Z",
     "start_time": "2023-10-17T17:44:59.948490Z"
    }
   },
   "outputs": [],
   "source": [
    "import numpy as np\n",
    "import matplotlib.pyplot as plt\n",
    "import skfuzzy as fuzzb"
   ]
  },
  {
   "cell_type": "markdown",
   "id": "f1a57f346f505714",
   "metadata": {},
   "source": [
    "Preparar el universo de dicurso"
   ]
  },
  {
   "cell_type": "code",
   "execution_count": 22,
   "id": "af9e23f2f12bc3c8",
   "metadata": {
    "ExecuteTime": {
     "end_time": "2023-10-17T17:44:59.964958Z",
     "start_time": "2023-10-17T17:44:59.951136Z"
    }
   },
   "outputs": [],
   "source": [
    "x = np.linspace(start = 0, stop = 75, num = 75, endpoint = True, retstep = False)"
   ]
  },
  {
   "cell_type": "markdown",
   "id": "d01638b8961f7c4c",
   "metadata": {},
   "source": [
    "Preparar los conjuntos de edades"
   ]
  },
  {
   "cell_type": "code",
   "execution_count": 23,
   "id": "cf4bb6eb9fe4cde8",
   "metadata": {
    "ExecuteTime": {
     "end_time": "2023-10-17T17:44:59.965489Z",
     "start_time": "2023-10-17T17:44:59.953116Z"
    }
   },
   "outputs": [],
   "source": [
    "ages_1 = [0, 25, 50]\n",
    "ages_2 = [25, 50, 75]\n",
    "ages_3 = [50, 75, 100]"
   ]
  },
  {
   "cell_type": "markdown",
   "id": "cfe91c7f5ce33c7d",
   "metadata": {},
   "source": [
    "Extraer las intersecciones entre el universo discurso y los conjuntos de edades"
   ]
  },
  {
   "cell_type": "code",
   "execution_count": 24,
   "id": "174ab4d6d7551180",
   "metadata": {
    "ExecuteTime": {
     "end_time": "2023-10-17T17:44:59.965803Z",
     "start_time": "2023-10-17T17:44:59.956721Z"
    }
   },
   "outputs": [],
   "source": [
    "young = fuzzb.membership.trimf(x, ages_1)\n",
    "medium_age = fuzzb.membership.trimf(x, ages_2)\n",
    "old = fuzzb.membership.trimf(x, ages_3)"
   ]
  },
  {
   "cell_type": "markdown",
   "id": "6ba5772768f87bb9",
   "metadata": {},
   "source": [
    "DIBUJAR Y PINTAR LAS GRÁFICAS\n",
    "Preparación del plano de representación"
   ]
  },
  {
   "cell_type": "code",
   "execution_count": 25,
   "id": "3a8c34a388ace262",
   "metadata": {
    "ExecuteTime": {
     "end_time": "2023-10-17T17:44:59.966764Z",
     "start_time": "2023-10-17T17:44:59.960052Z"
    }
   },
   "outputs": [
    {
     "data": {
      "text/plain": "<Figure size 640x480 with 0 Axes>"
     },
     "execution_count": 25,
     "metadata": {},
     "output_type": "execute_result"
    },
    {
     "data": {
      "text/plain": "<Figure size 640x480 with 0 Axes>"
     },
     "metadata": {},
     "output_type": "display_data"
    }
   ],
   "source": [
    "plt.figure()"
   ]
  },
  {
   "cell_type": "markdown",
   "id": "b57d898c8e6dbe39",
   "metadata": {},
   "source": [
    "Representar la gráfica de intersección entre el universo de discurso y el conjunto de edades de los jóvenes"
   ]
  },
  {
   "cell_type": "code",
   "execution_count": 26,
   "outputs": [
    {
     "data": {
      "text/plain": "<Figure size 640x480 with 1 Axes>",
      "image/png": "[encoded data removed]"
     },
     "metadata": {},
     "output_type": "display_data"
    }
   ],
   "source": [
    "plt.subplot(3,2,1)    # ubica la 1a gráfica en el plano\n",
    "plt.plot(x, young)      # dibuja la 1a función de membresía\n",
    "plt.title(\"Jóvenes\")    # establece el título de la gráfica \n",
    "plt.grid(True)          # establece que la gráfica tenga rejilla de fondo"
   ],
   "metadata": {
    "collapsed": false,
    "ExecuteTime": {
     "end_time": "2023-10-17T17:45:00.010357Z",
     "start_time": "2023-10-17T17:44:59.963522Z"
    }
   },
   "id": "a393c7260629747f"
  },
  {
   "cell_type": "markdown",
   "source": [
    "Representar la gráfica de intersección entre el universo de discuro y el conjunto de edades medianas"
   ],
   "metadata": {
    "collapsed": false
   },
   "id": "755891ad98833a8f"
  },
  {
   "cell_type": "code",
   "execution_count": 27,
   "outputs": [
    {
     "data": {
      "text/plain": "<Figure size 640x480 with 1 Axes>",
      "image/png": "[encoded data removed]"
     },
     "metadata": {},
     "output_type": "display_data"
    }
   ],
   "source": [
    "plt.subplot(3,2,1)\n",
    "plt.plot(x, medium_age)\n",
    "plt.title(\"Edades medianas\")\n",
    "plt.grid(True)"
   ],
   "metadata": {
    "collapsed": false,
    "ExecuteTime": {
     "end_time": "2023-10-17T17:45:00.050434Z",
     "start_time": "2023-10-17T17:45:00.013137Z"
    }
   },
   "id": "7276131c3df8167"
  }
 ],
 "metadata": {
  "kernelspec": {
   "display_name": "Python 3 (ipykernel)",
   "language": "python",
   "name": "python3"
  },
  "language_info": {
   "codemirror_mode": {
    "name": "ipython",
    "version": 3
   },
   "file_extension": ".py",
   "mimetype": "text/x-python",
   "name": "python",
   "nbconvert_exporter": "python",
   "pygments_lexer": "ipython3",
   "version": "3.11.5"
  }
 },
 "nbformat": 4,
 "nbformat_minor": 5
}
